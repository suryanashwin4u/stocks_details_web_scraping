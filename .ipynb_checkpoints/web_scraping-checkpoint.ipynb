{
 "cells": [
  {
   "cell_type": "code",
   "execution_count": null,
   "metadata": {},
   "outputs": [
    {
     "name": "stdout",
     "output_type": "stream",
     "text": [
      "enter company name or symbol:TCS\n"
     ]
    }
   ],
   "source": [
    "import requests\n",
    "from bs4 import BeautifulSoup\n",
    "stock_symbol=str(input(\"enter company name or symbol:\"))\n",
    "stock_url=\"https://www.nseindia.com/live_market/dynaContent/live_watch/get_quote/GetQuote.jsp?symbol=\"+stock_symbol+\"&illiquid=0&smeFlag=0&itpFlag=0\"\n",
    "# print(stock_url)\n",
    "response = requests.get(stock_url)\n",
    "# print(response)\n",
    "soup=BeautifulSoup(response.text,'html.parser')\n",
    "data_array=soup.find(id=\"responseDiv\").getText().strip().split(\":\")\n",
    "print(data_array)\n",
    "for item in data_array:\n",
    "    if 'lastPrice' in item:\n",
    "        index=data_array.index(item)+1\n",
    "        print(\"index->\"+str(index))\n",
    "        \n",
    "latestPrice=data_array[index].split('\"\"')\n",
    "print(latestPrice[1])"
   ]
  },
  {
   "cell_type": "code",
   "execution_count": null,
   "metadata": {},
   "outputs": [],
   "source": []
  }
 ],
 "metadata": {
  "kernelspec": {
   "display_name": "Python 3",
   "language": "python",
   "name": "python3"
  },
  "language_info": {
   "codemirror_mode": {
    "name": "ipython",
    "version": 3
   },
   "file_extension": ".py",
   "mimetype": "text/x-python",
   "name": "python",
   "nbconvert_exporter": "python",
   "pygments_lexer": "ipython3",
   "version": "3.8.2"
  }
 },
 "nbformat": 4,
 "nbformat_minor": 4
}
